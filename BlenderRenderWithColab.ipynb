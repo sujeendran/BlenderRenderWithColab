{
  "nbformat": 4,
  "nbformat_minor": 0,
  "metadata": {
    "colab": {
      "name": "BlenderRenderWithColab.ipynb",
      "private_outputs": true,
      "provenance": [],
      "collapsed_sections": []
    },
    "kernelspec": {
      "name": "python3",
      "display_name": "Python 3"
    },
    "accelerator": "GPU"
  },
  "cells": [
    {
      "cell_type": "markdown",
      "metadata": {
        "id": "nhToAYQJX1cF"
      },
      "source": [
        "### Acknowledgement\r\n",
        "Thanks to *Micro Singularity* and *David R. Pugh* for sharing their knowledge which enabled me to expand Google Colab Blender rendering capabilities for EEVEE engine too.\r\n",
        "\r\n",
        "Sources:\r\n",
        "1. Blender Tutorial - How to Speed Up Renders using Google Colab for Free! (Part 2) (https://youtu.be/eOxawEi5cNk)\r\n",
        "2. Rendering OpenAI Gym Envs on Binder and Google Colab (https://towardsdatascience.com/rendering-openai-gym-envs-on-binder-and-google-colab-536f99391cc7)"
      ]
    },
    {
      "cell_type": "markdown",
      "metadata": {
        "id": "tiVVaACbXO-p"
      },
      "source": [
        "# SETUP BLENDER"
      ]
    },
    {
      "cell_type": "code",
      "metadata": {
        "id": "X1iBrBXfrwIR"
      },
      "source": [
        "# Download Blender from Repository\r\n",
        "!wget https://download.blender.org/release/Blender2.91/blender-2.91.0-linux64.tar.xz"
      ],
      "execution_count": null,
      "outputs": []
    },
    {
      "cell_type": "code",
      "metadata": {
        "id": "exhsO-hAuUbR"
      },
      "source": [
        "# Extract Blender \r\n",
        "!tar xf blender-2.91.0-linux64.tar.xz"
      ],
      "execution_count": null,
      "outputs": []
    },
    {
      "cell_type": "code",
      "metadata": {
        "id": "1VSTLh_JuWmg"
      },
      "source": [
        "# Download some required libraries\r\n",
        "!apt install libboost-all-dev\r\n",
        "!apt install libgl1-mesa-dev"
      ],
      "execution_count": null,
      "outputs": []
    },
    {
      "cell_type": "markdown",
      "metadata": {
        "id": "JoR4B6sMXUK1"
      },
      "source": [
        "# SETUP GOOGLE DRIVE AND BLEND FILE"
      ]
    },
    {
      "cell_type": "code",
      "metadata": {
        "id": "m-n40dituYlV"
      },
      "source": [
        "# Connect Google Drive\r\n",
        "from google.colab import drive\r\n",
        "drive.mount('/content/gdrive')"
      ],
      "execution_count": null,
      "outputs": []
    },
    {
      "cell_type": "code",
      "metadata": {
        "id": "gk9Zk66rubPb"
      },
      "source": [
        "filename = '/content/gdrive/MyDrive/BlendFiles/animal.blend'"
      ],
      "execution_count": null,
      "outputs": []
    },
    {
      "cell_type": "markdown",
      "metadata": {
        "id": "uV8K7RzXMRCB"
      },
      "source": [
        "# CYCLES RENDERING"
      ]
    },
    {
      "cell_type": "code",
      "metadata": {
        "id": "4Yh0gJ2Lzsij"
      },
      "source": [
        "# Render a Still Frame\r\n",
        "!sudo ./blender-2.91.0-linux64/blender -b $filename -noaudio -E 'CYCLES' -o '//image_####' -f 1 -F 'PNG' -- --cycles-device OPTIX"
      ],
      "execution_count": null,
      "outputs": []
    },
    {
      "cell_type": "code",
      "metadata": {
        "id": "A7-HkTU52Gis"
      },
      "source": [
        "# Render an Animation\r\n",
        "!sudo ./blender-2.91.0-linux64/blender -b $filename -noaudio -E 'CYCLES' -o '//image_####' -s 1 -e 125 -a -- --cycles-device OPTIX"
      ],
      "execution_count": null,
      "outputs": []
    },
    {
      "cell_type": "code",
      "metadata": {
        "id": "CTADRDzevfyA"
      },
      "source": [
        "# (DEPRECATED) Render Still Frame\r\n",
        "# !sudo ./blender-2.91.0-linux64/blender -b $filename -noaudio -P '/content/gdrive/MyDrive/BlendFiles/GPU.py'  -E 'CYCLES' -f 1 -F 'PNG' -o '//image_####'"
      ],
      "execution_count": null,
      "outputs": []
    },
    {
      "cell_type": "markdown",
      "metadata": {
        "id": "LW2NfDfAMXhO"
      },
      "source": [
        "# EEVEE RENDERING"
      ]
    },
    {
      "cell_type": "markdown",
      "metadata": {
        "id": "KZZqSz5DVkP7"
      },
      "source": [
        "## Setup Virtual Display for EEVEE Rendering"
      ]
    },
    {
      "cell_type": "code",
      "metadata": {
        "id": "9GLkf4R-Mb5M"
      },
      "source": [
        "# Xvfb display server\r\n",
        "!apt-get install -y xvfb x11-utils\r\n",
        "!pip install pyvirtualdisplay==0.2.*  PyOpenGL==3.1.* PyOpenGL-accelerate==3.1.*"
      ],
      "execution_count": null,
      "outputs": []
    },
    {
      "cell_type": "code",
      "metadata": {
        "id": "7EP1QOhRN8DK"
      },
      "source": [
        "# Start a virtual display\r\n",
        "import pyvirtualdisplay\r\n",
        "_display = pyvirtualdisplay.Display(visible=False,  # use False with Xvfb\r\n",
        "                                    size=(1920, 1080))\r\n",
        "_ = _display.start()"
      ],
      "execution_count": null,
      "outputs": []
    },
    {
      "cell_type": "code",
      "metadata": {
        "id": "NchiiG1hNVqq"
      },
      "source": [
        "# Test if DISPLAY device is started correctly\r\n",
        "!echo $DISPLAY"
      ],
      "execution_count": null,
      "outputs": []
    },
    {
      "cell_type": "markdown",
      "metadata": {
        "id": "uePLZOFcWfb-"
      },
      "source": [
        "## Render"
      ]
    },
    {
      "cell_type": "code",
      "metadata": {
        "id": "o4hHrO0H6ydM"
      },
      "source": [
        "# Render a Still Frame\r\n",
        "!sudo ./blender-2.91.0-linux64/blender -b $filename -noaudio -P '/content/gdrive/MyDrive/BlendFiles/GPU.py' -E 'BLENDER_EEVEE' -o '//image_####' -f 1 -F 'PNG'"
      ],
      "execution_count": null,
      "outputs": []
    },
    {
      "cell_type": "code",
      "metadata": {
        "id": "d5LAG_SAWvy_"
      },
      "source": [
        "# Render an Animation\r\n",
        "!sudo ./blender-2.91.0-linux64/blender -b $filename -noaudio -P '/content/gdrive/MyDrive/BlendFiles/GPU.py' -E 'BLENDER_EEVEE' -o '//image_####' -s 1 -e 125 -a"
      ],
      "execution_count": null,
      "outputs": []
    },
    {
      "cell_type": "markdown",
      "metadata": {
        "id": "El6cJuayWiI2"
      },
      "source": [
        "## Troubleshoot"
      ]
    },
    {
      "cell_type": "code",
      "metadata": {
        "id": "Qg_0MuxBO6pj"
      },
      "source": [
        "# If render is interrupted and Blender is unable to find display device,\r\n",
        "# restart the virtual display\r\n",
        "_ = _display.stop()\r\n",
        "_display = pyvirtualdisplay.Display(visible=False,  # use False with Xvfb\r\n",
        "                                  size=(1920, 1080))\r\n",
        "_ = _display.start()"
      ],
      "execution_count": null,
      "outputs": []
    }
  ]
}